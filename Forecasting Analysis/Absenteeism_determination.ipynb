{
 "cells": [
  {
   "cell_type": "code",
   "execution_count": 5,
   "id": "39ca5ad6",
   "metadata": {},
   "outputs": [
    {
     "data": {
      "text/html": [
       "<div>\n",
       "<style scoped>\n",
       "    .dataframe tbody tr th:only-of-type {\n",
       "        vertical-align: middle;\n",
       "    }\n",
       "\n",
       "    .dataframe tbody tr th {\n",
       "        vertical-align: top;\n",
       "    }\n",
       "\n",
       "    .dataframe thead th {\n",
       "        text-align: right;\n",
       "    }\n",
       "</style>\n",
       "<table border=\"1\" class=\"dataframe\">\n",
       "  <thead>\n",
       "    <tr style=\"text-align: right;\">\n",
       "      <th></th>\n",
       "      <th>Reason_1</th>\n",
       "      <th>Reason_2</th>\n",
       "      <th>Reason_3</th>\n",
       "      <th>Reason_4</th>\n",
       "      <th>Month Values</th>\n",
       "      <th>Day of the Week</th>\n",
       "      <th>Transportation Expense</th>\n",
       "      <th>Distance to Work</th>\n",
       "      <th>Age</th>\n",
       "      <th>Daily Work Load Average</th>\n",
       "      <th>Body Mass Index</th>\n",
       "      <th>Education</th>\n",
       "      <th>Children</th>\n",
       "      <th>Pets</th>\n",
       "      <th>Probability</th>\n",
       "      <th>Prediction</th>\n",
       "    </tr>\n",
       "  </thead>\n",
       "  <tbody>\n",
       "    <tr>\n",
       "      <th>0</th>\n",
       "      <td>0</td>\n",
       "      <td>0.0</td>\n",
       "      <td>0</td>\n",
       "      <td>1</td>\n",
       "      <td>6</td>\n",
       "      <td>4</td>\n",
       "      <td>179</td>\n",
       "      <td>26</td>\n",
       "      <td>30</td>\n",
       "      <td>237.656</td>\n",
       "      <td>19</td>\n",
       "      <td>1</td>\n",
       "      <td>0</td>\n",
       "      <td>0</td>\n",
       "      <td>0.116467</td>\n",
       "      <td>0</td>\n",
       "    </tr>\n",
       "    <tr>\n",
       "      <th>1</th>\n",
       "      <td>1</td>\n",
       "      <td>0.0</td>\n",
       "      <td>0</td>\n",
       "      <td>0</td>\n",
       "      <td>6</td>\n",
       "      <td>0</td>\n",
       "      <td>361</td>\n",
       "      <td>52</td>\n",
       "      <td>28</td>\n",
       "      <td>237.656</td>\n",
       "      <td>27</td>\n",
       "      <td>0</td>\n",
       "      <td>1</td>\n",
       "      <td>4</td>\n",
       "      <td>0.873275</td>\n",
       "      <td>1</td>\n",
       "    </tr>\n",
       "    <tr>\n",
       "      <th>2</th>\n",
       "      <td>0</td>\n",
       "      <td>0.0</td>\n",
       "      <td>0</td>\n",
       "      <td>1</td>\n",
       "      <td>6</td>\n",
       "      <td>2</td>\n",
       "      <td>155</td>\n",
       "      <td>12</td>\n",
       "      <td>34</td>\n",
       "      <td>237.656</td>\n",
       "      <td>25</td>\n",
       "      <td>0</td>\n",
       "      <td>2</td>\n",
       "      <td>0</td>\n",
       "      <td>0.270874</td>\n",
       "      <td>0</td>\n",
       "    </tr>\n",
       "    <tr>\n",
       "      <th>3</th>\n",
       "      <td>0</td>\n",
       "      <td>0.0</td>\n",
       "      <td>0</td>\n",
       "      <td>1</td>\n",
       "      <td>6</td>\n",
       "      <td>4</td>\n",
       "      <td>179</td>\n",
       "      <td>22</td>\n",
       "      <td>40</td>\n",
       "      <td>237.656</td>\n",
       "      <td>22</td>\n",
       "      <td>1</td>\n",
       "      <td>2</td>\n",
       "      <td>0</td>\n",
       "      <td>0.191342</td>\n",
       "      <td>0</td>\n",
       "    </tr>\n",
       "    <tr>\n",
       "      <th>4</th>\n",
       "      <td>1</td>\n",
       "      <td>0.0</td>\n",
       "      <td>0</td>\n",
       "      <td>0</td>\n",
       "      <td>6</td>\n",
       "      <td>4</td>\n",
       "      <td>155</td>\n",
       "      <td>12</td>\n",
       "      <td>34</td>\n",
       "      <td>237.656</td>\n",
       "      <td>25</td>\n",
       "      <td>0</td>\n",
       "      <td>2</td>\n",
       "      <td>0</td>\n",
       "      <td>0.698491</td>\n",
       "      <td>1</td>\n",
       "    </tr>\n",
       "  </tbody>\n",
       "</table>\n",
       "</div>"
      ],
      "text/plain": [
       "   Reason_1  Reason_2  Reason_3  Reason_4  Month Values  Day of the Week  \\\n",
       "0         0       0.0         0         1             6                4   \n",
       "1         1       0.0         0         0             6                0   \n",
       "2         0       0.0         0         1             6                2   \n",
       "3         0       0.0         0         1             6                4   \n",
       "4         1       0.0         0         0             6                4   \n",
       "\n",
       "   Transportation Expense  Distance to Work  Age  Daily Work Load Average  \\\n",
       "0                     179                26   30                  237.656   \n",
       "1                     361                52   28                  237.656   \n",
       "2                     155                12   34                  237.656   \n",
       "3                     179                22   40                  237.656   \n",
       "4                     155                12   34                  237.656   \n",
       "\n",
       "   Body Mass Index  Education  Children  Pets  Probability  Prediction  \n",
       "0               19          1         0     0     0.116467           0  \n",
       "1               27          0         1     4     0.873275           1  \n",
       "2               25          0         2     0     0.270874           0  \n",
       "3               22          1         2     0     0.191342           0  \n",
       "4               25          0         2     0     0.698491           1  "
      ]
     },
     "execution_count": 5,
     "metadata": {},
     "output_type": "execute_result"
    }
   ],
   "source": [
    "# import module\n",
    "from absenteeism_module import *\n",
    "import pymysql\n",
    "from sqlalchemy import create_engine\n",
    "from sqlalchemy.types import *\n",
    "\n",
    "# instantiate model from module with pickled model and scaler files\n",
    "model = AbsenteeismModel('model', 'scaler')\n",
    "\n",
    "# clean and load data\n",
    "model.load_and_clean_data(\"../Data/Absenteeism_new_data.csv\")\n",
    "\n",
    "# add probability and predictions to df\n",
    "df_new_obs = model.predicted_outputs()\n",
    "df_new_obs.head()"
   ]
  },
  {
   "cell_type": "code",
   "execution_count": 6,
   "id": "b0a1ac9d",
   "metadata": {},
   "outputs": [],
   "source": [
    "# pymysql engine connection to db\n",
    "conn = pymysql.connect(database = 'predicted_outputs', user = 'root', password = '')\n",
    "# cursor obj within workbench\n",
    "cursor = conn.cursor()"
   ]
  },
  {
   "cell_type": "code",
   "execution_count": 8,
   "id": "6807e149",
   "metadata": {},
   "outputs": [
    {
     "data": {
      "text/plain": [
       "0"
      ]
     },
     "execution_count": 8,
     "metadata": {},
     "output_type": "execute_result"
    }
   ],
   "source": [
    "# execute query\n",
    "cursor.execute('SELECT * FROM predicted_outputs;')"
   ]
  },
  {
   "cell_type": "markdown",
   "id": "ea576f24",
   "metadata": {},
   "source": [
    "### Insert DF by rows in table"
   ]
  },
  {
   "cell_type": "code",
   "execution_count": 9,
   "id": "db982f7c",
   "metadata": {},
   "outputs": [],
   "source": [
    "# baseline insert query\n",
    "insert_query = 'INSERT INTO predicted_outputs VALUES'"
   ]
  },
  {
   "cell_type": "code",
   "execution_count": 10,
   "id": "c544b6fa",
   "metadata": {},
   "outputs": [
    {
     "data": {
      "text/plain": [
       "(40, 16)"
      ]
     },
     "execution_count": 10,
     "metadata": {},
     "output_type": "execute_result"
    }
   ],
   "source": [
    "# shape of the df to insert\n",
    "df_new_obs.shape"
   ]
  },
  {
   "cell_type": "code",
   "execution_count": 11,
   "id": "af3482f7",
   "metadata": {},
   "outputs": [
    {
     "data": {
      "text/plain": [
       "array(['Reason_1', 'Reason_2', 'Reason_3', 'Reason_4', 'Month Values',\n",
       "       'Day of the Week', 'Transportation Expense', 'Distance to Work',\n",
       "       'Age', 'Daily Work Load Average', 'Body Mass Index', 'Education',\n",
       "       'Children', 'Pets', 'Probability', 'Prediction'], dtype=object)"
      ]
     },
     "execution_count": 11,
     "metadata": {},
     "output_type": "execute_result"
    }
   ],
   "source": [
    "# get column names\n",
    "df_new_obs.columns.values"
   ]
  },
  {
   "cell_type": "code",
   "execution_count": 13,
   "id": "d27bd603",
   "metadata": {},
   "outputs": [],
   "source": [
    "# loop to construct query\n",
    "# loop through rows\n",
    "for row in range(df_new_obs.shape[0]):\n",
    "#   add parenthesis to begin\n",
    "    insert_query += '('\n",
    "#   loop through columns to gather values\n",
    "    for col in range(df_new_obs.shape[1]):\n",
    "#       get column number from values and extracting corresponding value from df\n",
    "        insert_query += str(df_new_obs[df_new_obs.columns.values[col]][row]) + ', '\n",
    "#   remove the last comma and space and close parantheses and prepare for next row data\n",
    "    insert_query = insert_query[:-2] + '), '"
   ]
  },
  {
   "cell_type": "code",
   "execution_count": 14,
   "id": "f960b095",
   "metadata": {},
   "outputs": [
    {
     "data": {
      "text/plain": [
       "'INSERT INTO predicted_outputs VALUES(0, 0.0, 0, 1, 6, 4, 179, 26, 30, 237.656, 19, 1, 0, 0, 0.11646673058944838, 0), (1, 0.0, 0, 0, 6, 0, 361, 52, 28, 237.656, 27, 0, 1, 4, 0.8732752530272143, 1), (0, 0.0, 0, 1, 6, 2, 155, 12, 34, 237.656, 25, 0, 2, 0, 0.27087408729585466, 0), (0, 0.0, 0, 1, 6, 4, 179, 22, 40, 237.656, 22, 1, 2, 0, 0.19134210570340598, 0), (1, 0.0, 0, 0, 6, 4, 155, 12, 34, 237.656, 25, 0, 2, 0, 0.6984905273002678, 1), (1, 0.0, 0, 0, 6, 0, 225, 26, 28, 237.656, 24, 0, 1, 2, 0.728028158479863, 1), (1, 0.0, 0, 0, 6, 2, 118, 15, 46, 275.089, 25, 0, 2, 0, 0.5739518538876448, 1), (0, 0.0, 0, 1, 6, 2, 179, 26, 30, 275.089, 19, 1, 0, 0, 0.12871192435178627, 0), (0, 0.0, 0, 1, 6, 4, 118, 10, 37, 275.089, 28, 0, 0, 0, 0.12098223186268232, 0), (1, 0.0, 0, 0, 6, 2, 118, 10, 37, 275.089, 28, 0, 0, 0, 0.5188113854953137, 1), (0, 0.0, 0, 1, 6, 3, 378, 49, 36, 275.089, 21, 0, 2, 4, 0.42733773358856314, 0), (0, 0.0, 1, 0, 6, 3, 118, 13, 50, 275.089, 31, 0, 1, 0, 0.6202086100129562, 1), (0, 0.0, 1, 0, 6, 4, 233, 51, 31, 275.089, 21, 1, 1, 8, 0.30281973322492217, 0), (0, 0.0, 0, 1, 6, 4, 179, 26, 30, 275.089, 19, 1, 0, 0, 0.11645257256224982, 0), (0, 0.0, 0, 0, 6, 0, 235, 29, 48, 275.089, 33, 0, 1, 5, 0.08272869696183001, 0), (0, 0.0, 0, 0, 6, 3, 268, 11, 33, 275.089, 25, 1, 0, 0, 0.15581998356624704, 0), (0, 0.0, 1, 0, 6, 3, 118, 13, 50, 275.089, 31, 0, 1, 0, 0.6202086100129562, 1), (1, 0.0, 0, 0, 6, 3, 179, 26, 30, 275.089, 19, 1, 0, 0, 0.4937376075145001, 0), (0, 0.0, 0, 1, 6, 3, 291, 31, 40, 275.089, 25, 0, 1, 1, 0.371280159904245, 0), (1, 0.0, 0, 0, 7, 0, 179, 26, 30, 275.089, 19, 1, 0, 0, 0.5482276165183791, 1), (0, 0.0, 0, 1, 7, 0, 118, 10, 37, 275.089, 28, 0, 0, 0, 0.15347968766092385, 0), (0, 0.0, 0, 1, 7, 3, 233, 51, 31, 275.089, 21, 1, 1, 8, 0.04887231080315323, 0), (1, 0.0, 0, 0, 7, 4, 118, 10, 37, 275.089, 28, 0, 0, 0, 0.502170381255913, 1), (1, 0.0, 0, 0, 7, 2, 118, 10, 37, 275.089, 28, 0, 0, 0, 0.5306481697237044, 1), (0, 0.0, 0, 1, 7, 2, 233, 51, 31, 275.089, 21, 1, 1, 8, 0.051592652355342807, 0), (0, 0.0, 0, 1, 7, 2, 235, 20, 43, 264.604, 38, 0, 1, 0, 0.5159506818024923, 1), (0, 0.0, 1, 0, 7, 4, 233, 51, 31, 264.604, 21, 1, 1, 8, 0.3129416884240864, 0), (1, 0.0, 0, 0, 7, 0, 228, 14, 58, 264.604, 22, 0, 2, 1, 0.6743790609800473, 1), (0, 0.0, 0, 1, 7, 0, 118, 10, 37, 264.604, 28, 0, 0, 0, 0.15348469502028045, 0), (1, 0.0, 0, 0, 7, 1, 228, 14, 58, 264.604, 22, 0, 2, 1, 0.6617328429350037, 1), (0, 0.0, 0, 1, 7, 1, 189, 29, 33, 264.604, 25, 0, 2, 2, 0.26030651802442345, 0), (0, 0.0, 0, 1, 7, 2, 118, 10, 37, 264.604, 28, 0, 0, 0, 0.13924290613715695, 0), (0, 0.0, 0, 1, 7, 2, 361, 52, 28, 264.604, 27, 0, 1, 4, 0.4798003381145825, 0), (0, 0.0, 0, 1, 7, 2, 225, 26, 28, 264.604, 24, 0, 1, 2, 0.26377586206681175, 0), (1, 0.0, 0, 0, 7, 0, 369, 17, 31, 264.604, 25, 0, 3, 0, 0.9705607552166304, 1), (1, 0.0, 0, 0, 7, 1, 289, 36, 33, 264.604, 30, 0, 2, 1, 0.9157261748640487, 1), (1, 0.0, 0, 0, 7, 1, 235, 11, 37, 264.604, 29, 1, 1, 1, 0.7685282267270989, 1), (0, 0.0, 0, 0, 7, 1, 118, 14, 40, 271.219, 34, 0, 1, 8, 0.018849650840160284, 0), (0, 0.0, 0, 0, 7, 2, 231, 35, 39, 271.219, 35, 0, 2, 2, 0.2516762609842597, 0), (0, 0.0, 0, 0, 7, 4, 179, 45, 53, 271.219, 25, 0, 1, 1, 0.05873182439589989, 0), '"
      ]
     },
     "execution_count": 14,
     "metadata": {},
     "output_type": "execute_result"
    }
   ],
   "source": [
    "insert_query"
   ]
  },
  {
   "cell_type": "code",
   "execution_count": 15,
   "id": "a8d43ed6",
   "metadata": {},
   "outputs": [
    {
     "data": {
      "text/plain": [
       "'INSERT INTO predicted_outputs VALUES(0, 0.0, 0, 1, 6, 4, 179, 26, 30, 237.656, 19, 1, 0, 0, 0.11646673058944838, 0), (1, 0.0, 0, 0, 6, 0, 361, 52, 28, 237.656, 27, 0, 1, 4, 0.8732752530272143, 1), (0, 0.0, 0, 1, 6, 2, 155, 12, 34, 237.656, 25, 0, 2, 0, 0.27087408729585466, 0), (0, 0.0, 0, 1, 6, 4, 179, 22, 40, 237.656, 22, 1, 2, 0, 0.19134210570340598, 0), (1, 0.0, 0, 0, 6, 4, 155, 12, 34, 237.656, 25, 0, 2, 0, 0.6984905273002678, 1), (1, 0.0, 0, 0, 6, 0, 225, 26, 28, 237.656, 24, 0, 1, 2, 0.728028158479863, 1), (1, 0.0, 0, 0, 6, 2, 118, 15, 46, 275.089, 25, 0, 2, 0, 0.5739518538876448, 1), (0, 0.0, 0, 1, 6, 2, 179, 26, 30, 275.089, 19, 1, 0, 0, 0.12871192435178627, 0), (0, 0.0, 0, 1, 6, 4, 118, 10, 37, 275.089, 28, 0, 0, 0, 0.12098223186268232, 0), (1, 0.0, 0, 0, 6, 2, 118, 10, 37, 275.089, 28, 0, 0, 0, 0.5188113854953137, 1), (0, 0.0, 0, 1, 6, 3, 378, 49, 36, 275.089, 21, 0, 2, 4, 0.42733773358856314, 0), (0, 0.0, 1, 0, 6, 3, 118, 13, 50, 275.089, 31, 0, 1, 0, 0.6202086100129562, 1), (0, 0.0, 1, 0, 6, 4, 233, 51, 31, 275.089, 21, 1, 1, 8, 0.30281973322492217, 0), (0, 0.0, 0, 1, 6, 4, 179, 26, 30, 275.089, 19, 1, 0, 0, 0.11645257256224982, 0), (0, 0.0, 0, 0, 6, 0, 235, 29, 48, 275.089, 33, 0, 1, 5, 0.08272869696183001, 0), (0, 0.0, 0, 0, 6, 3, 268, 11, 33, 275.089, 25, 1, 0, 0, 0.15581998356624704, 0), (0, 0.0, 1, 0, 6, 3, 118, 13, 50, 275.089, 31, 0, 1, 0, 0.6202086100129562, 1), (1, 0.0, 0, 0, 6, 3, 179, 26, 30, 275.089, 19, 1, 0, 0, 0.4937376075145001, 0), (0, 0.0, 0, 1, 6, 3, 291, 31, 40, 275.089, 25, 0, 1, 1, 0.371280159904245, 0), (1, 0.0, 0, 0, 7, 0, 179, 26, 30, 275.089, 19, 1, 0, 0, 0.5482276165183791, 1), (0, 0.0, 0, 1, 7, 0, 118, 10, 37, 275.089, 28, 0, 0, 0, 0.15347968766092385, 0), (0, 0.0, 0, 1, 7, 3, 233, 51, 31, 275.089, 21, 1, 1, 8, 0.04887231080315323, 0), (1, 0.0, 0, 0, 7, 4, 118, 10, 37, 275.089, 28, 0, 0, 0, 0.502170381255913, 1), (1, 0.0, 0, 0, 7, 2, 118, 10, 37, 275.089, 28, 0, 0, 0, 0.5306481697237044, 1), (0, 0.0, 0, 1, 7, 2, 233, 51, 31, 275.089, 21, 1, 1, 8, 0.051592652355342807, 0), (0, 0.0, 0, 1, 7, 2, 235, 20, 43, 264.604, 38, 0, 1, 0, 0.5159506818024923, 1), (0, 0.0, 1, 0, 7, 4, 233, 51, 31, 264.604, 21, 1, 1, 8, 0.3129416884240864, 0), (1, 0.0, 0, 0, 7, 0, 228, 14, 58, 264.604, 22, 0, 2, 1, 0.6743790609800473, 1), (0, 0.0, 0, 1, 7, 0, 118, 10, 37, 264.604, 28, 0, 0, 0, 0.15348469502028045, 0), (1, 0.0, 0, 0, 7, 1, 228, 14, 58, 264.604, 22, 0, 2, 1, 0.6617328429350037, 1), (0, 0.0, 0, 1, 7, 1, 189, 29, 33, 264.604, 25, 0, 2, 2, 0.26030651802442345, 0), (0, 0.0, 0, 1, 7, 2, 118, 10, 37, 264.604, 28, 0, 0, 0, 0.13924290613715695, 0), (0, 0.0, 0, 1, 7, 2, 361, 52, 28, 264.604, 27, 0, 1, 4, 0.4798003381145825, 0), (0, 0.0, 0, 1, 7, 2, 225, 26, 28, 264.604, 24, 0, 1, 2, 0.26377586206681175, 0), (1, 0.0, 0, 0, 7, 0, 369, 17, 31, 264.604, 25, 0, 3, 0, 0.9705607552166304, 1), (1, 0.0, 0, 0, 7, 1, 289, 36, 33, 264.604, 30, 0, 2, 1, 0.9157261748640487, 1), (1, 0.0, 0, 0, 7, 1, 235, 11, 37, 264.604, 29, 1, 1, 1, 0.7685282267270989, 1), (0, 0.0, 0, 0, 7, 1, 118, 14, 40, 271.219, 34, 0, 1, 8, 0.018849650840160284, 0), (0, 0.0, 0, 0, 7, 2, 231, 35, 39, 271.219, 35, 0, 2, 2, 0.2516762609842597, 0), (0, 0.0, 0, 0, 7, 4, 179, 45, 53, 271.219, 25, 0, 1, 1, 0.05873182439589989, 0);'"
      ]
     },
     "execution_count": 15,
     "metadata": {},
     "output_type": "execute_result"
    }
   ],
   "source": [
    "# replace end with semicolon\n",
    "insert_query = insert_query[:-2] + ';'\n",
    "insert_query"
   ]
  },
  {
   "cell_type": "code",
   "execution_count": 16,
   "id": "3bf7eab2",
   "metadata": {},
   "outputs": [
    {
     "data": {
      "text/plain": [
       "40"
      ]
     },
     "execution_count": 16,
     "metadata": {},
     "output_type": "execute_result"
    }
   ],
   "source": [
    "# write insert query\n",
    "cursor.execute(insert_query)"
   ]
  },
  {
   "cell_type": "code",
   "execution_count": 17,
   "id": "327bc081",
   "metadata": {},
   "outputs": [],
   "source": [
    "# commit to db\n",
    "conn.commit()"
   ]
  },
  {
   "cell_type": "code",
   "execution_count": 18,
   "id": "f9eede46",
   "metadata": {},
   "outputs": [
    {
     "data": {
      "text/plain": [
       "40"
      ]
     },
     "execution_count": 18,
     "metadata": {},
     "output_type": "execute_result"
    }
   ],
   "source": [
    "# check db contents\n",
    "cursor.execute('SELECT * FROM predicted_outputs;')"
   ]
  },
  {
   "cell_type": "code",
   "execution_count": 19,
   "id": "f5a079c5",
   "metadata": {},
   "outputs": [],
   "source": [
    "# close connection\n",
    "conn.close()"
   ]
  },
  {
   "cell_type": "code",
   "execution_count": null,
   "id": "491ef723",
   "metadata": {},
   "outputs": [],
   "source": []
  }
 ],
 "metadata": {
  "kernelspec": {
   "display_name": "mlenv",
   "language": "python",
   "name": "mlenv"
  },
  "language_info": {
   "codemirror_mode": {
    "name": "ipython",
    "version": 3
   },
   "file_extension": ".py",
   "mimetype": "text/x-python",
   "name": "python",
   "nbconvert_exporter": "python",
   "pygments_lexer": "ipython3",
   "version": "3.7.13"
  }
 },
 "nbformat": 4,
 "nbformat_minor": 5
}
